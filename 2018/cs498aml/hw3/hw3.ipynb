{
 "cells": [
  {
   "cell_type": "code",
   "execution_count": 5,
   "metadata": {
    "collapsed": true
   },
   "outputs": [],
   "source": [
    "import numpy as np\n",
    "import pandas as pd\n",
    "from sklearn.decomposition import PCA\n",
    "from sklearn.metrics import mean_squared_error"
   ]
  },
  {
   "cell_type": "code",
   "execution_count": 6,
   "metadata": {
    "collapsed": true
   },
   "outputs": [],
   "source": [
    "def pca_transform(source, data, n):\n",
    "    result = []\n",
    "    for i in range(n):\n",
    "        pca = PCA(n_components=i)\n",
    "        pca.fit(source)\n",
    "        tmp = pca.transform(data)\n",
    "        result.append(pca.inverse_transform(tmp))\n",
    "    return np.array(result)\n",
    "\n",
    "def mse(predict, source, n):\n",
    "    result = np.zeros(n)\n",
    "    for i in range(n):\n",
    "        result[i] = mean_squared_error(source, predict[i]) * 4\n",
    "    return result\n",
    "\n",
    "# read data\n",
    "data1 = pd.read_csv('hw3-data/dataI.csv')\n",
    "data2 = pd.read_csv('hw3-data/dataII.csv')\n",
    "data3 = pd.read_csv('hw3-data/dataIII.csv')\n",
    "data4 = pd.read_csv('hw3-data/dataIV.csv')\n",
    "data5 = pd.read_csv('hw3-data/dataV.csv')\n",
    "iris = pd.read_csv('hw3-data/iris.csv')"
   ]
  },
  {
   "cell_type": "code",
   "execution_count": 7,
   "metadata": {
    "collapsed": true
   },
   "outputs": [],
   "source": [
    "# compare with noiseless \n",
    "transform_1 = pca_transform(iris, data1, 5)\n",
    "transform_2 = pca_transform(iris, data2, 5)\n",
    "transform_3 = pca_transform(iris, data3, 5)\n",
    "transform_4 = pca_transform(iris, data4, 5)\n",
    "transform_5 = pca_transform(iris, data5, 5)\n",
    "mse_1 = mse(transform_1, iris, 5)\n",
    "mse_2 = mse(transform_2, iris, 5)\n",
    "mse_3 = mse(transform_3, iris, 5)\n",
    "mse_4 = mse(transform_4, iris, 5)\n",
    "mse_5 = mse(transform_5, iris, 5)\n",
    "\n",
    "# compare with noise self\n",
    "noise_1 = pca_transform(data1, data1, 5)\n",
    "noise_2 = pca_transform(data2, data2, 5)\n",
    "noise_3 = pca_transform(data3, data3, 5)\n",
    "noise_4 = pca_transform(data4, data4, 5)\n",
    "noise_5 = pca_transform(data5, data5, 5)\n",
    "noise_mse_1 = mse(noise_1, iris, 5)\n",
    "noise_mse_2 = mse(noise_2, iris, 5)\n",
    "noise_mse_3 = mse(noise_3, iris, 5)\n",
    "noise_mse_4 = mse(noise_4, iris, 5)\n",
    "noise_mse_5 = mse(noise_5, iris, 5)\n",
    "\n",
    "# append MSEs\n",
    "numbers = [mse_1.tolist() + noise_mse_1.tolist(),\n",
    "           mse_2.tolist() + noise_mse_2.tolist(),\n",
    "           mse_3.tolist() + noise_mse_3.tolist(),\n",
    "           mse_4.tolist() + noise_mse_4.tolist(),\n",
    "           mse_5.tolist() + noise_mse_5.tolist()]"
   ]
  },
  {
   "cell_type": "code",
   "execution_count": 8,
   "metadata": {
    "collapsed": true
   },
   "outputs": [],
   "source": [
    "with open('zq2-numbers.csv','wt') as csv:\n",
    "    csv.write(',0N,1N,2N,3N,4N,0c,1c,2c,3c,4c')\n",
    "    for i in range(len(numbers)):\n",
    "        csv.write('\\n' + str(i+1))\n",
    "        for j in range(10):\n",
    "            csv.write(',' + \"{:.4f}\".format(numbers[i][j]))\n",
    "            \n",
    "with open('zq2-recon.csv', 'wt') as csv:\n",
    "    csv.write('X1,X2,X3,X4')\n",
    "    for i in range(noise_2[2].shape[0]):\n",
    "        csv.write('\\n')\n",
    "        for j in range(noise_2[2].shape[1]):\n",
    "            csv.write(str(noise_2[2][i][j]))\n",
    "            if (j + 1 != noise_2[2].shape[1]):\n",
    "                csv.write(',')"
   ]
  }
 ],
 "metadata": {
  "kernelspec": {
   "display_name": "Python 3",
   "language": "python",
   "name": "python3"
  },
  "language_info": {
   "codemirror_mode": {
    "name": "ipython",
    "version": 3
   },
   "file_extension": ".py",
   "mimetype": "text/x-python",
   "name": "python",
   "nbconvert_exporter": "python",
   "pygments_lexer": "ipython3",
   "version": "3.6.0"
  }
 },
 "nbformat": 4,
 "nbformat_minor": 2
}

{
 "cells": [
  {
   "cell_type": "code",
   "execution_count": 11,
   "metadata": {
    "collapsed": true
   },
   "outputs": [],
   "source": [
    "import numpy as np\n",
    "import matplotlib.pyplot as plt\n",
    "from mnist import MNIST"
   ]
  },
  {
   "cell_type": "markdown",
   "metadata": {},
   "source": [
    "Obtain the MNIST training set, and binarize the first 500 images by mapping any value below .5 to -1 and any value above to 1. For each image, create a noisy version by randomly flipping 2% of the bits"
   ]
  },
  {
   "cell_type": "code",
   "execution_count": 12,
   "metadata": {
    "collapsed": true
   },
   "outputs": [],
   "source": [
    "# take data\n",
    "# NOTE: rename file name by replacing . into -\n",
    "# For example: t10k-images.idx3-ubyte => t10k-images-idx3-ubyte\n",
    "# read data from /data\n",
    "mndata = MNIST('data')\n",
    "image_total, label_total = mndata.load_training()"
   ]
  },
  {
   "cell_type": "code",
   "execution_count": 13,
   "metadata": {
    "collapsed": true
   },
   "outputs": [],
   "source": [
    "train_image = np.array(image_total[:500])                   # we only take first 500 training sets for this homework\n",
    "train_laebl = np.array(label_total[:500])\n",
    "\n",
    "binary_train_image = np.where(train_image/255 <= 0.5, -1, 1)      # take number above .5 as 1, and others as -1\n",
    "\n",
    "noise_train_image = binary_train_image.copy()                     # create a hard copy for noise data\n",
    "\n",
    "num_sample, num_pixel = binary_train_image.shape\n",
    "\n",
    "noise_pixel = int(num_pixel * 0.02)                               # compute the number of noise pixels\n",
    "\n",
    "for i in range(num_sample):                                       # flip some bits of each train_image to create noisy image\n",
    "    random_pixel = np.random.randint(0, num_pixel, noise_pixel)   # pick pixels\n",
    "    noise_train_image[i][ random_pixel ] *= -1                    # flip bits"
   ]
  },
  {
   "cell_type": "markdown",
   "metadata": {
    "collapsed": true
   },
   "source": [
    "Now denoise each image using a Boltzmann machine model and mean field inference. Use theta_{ij}=0.2 for the H_i, H_j terms and theta_{ij}=0.2 for the H_i, X_j terms. To hand in: Report the fraction of all pixels that are correct in the 500 images."
   ]
  },
  {
   "cell_type": "code",
   "execution_count": 28,
   "metadata": {
    "collapsed": true
   },
   "outputs": [],
   "source": [
    "def pred_and_noisy(image, noise_image, anchor, theta):\n",
    "    pred_res, noisy_res, theta_hh, theta_hx = 0, 0, theta, theta\n",
    "\n",
    "    if anchor % 28 != 0:                                          # consider the left side of the neighbor\n",
    "        noisy_res += theta_hx * noise_image[ anchor - 1 ]\n",
    "        pred_res += theta_hh * (2 * image[anchor - 1] - 1)\n",
    "\n",
    "    if (anchor + 1) % 28 != 0:                                    # consider the right side of the neighbor\n",
    "        noisy_res += theta_hx * noise_image[anchor + 1]\n",
    "        pred_res += theta_hh * (2 * image[anchor + 1] - 1)\n",
    "\n",
    "    if anchor >= 28:                                              # consider the top\n",
    "        noisy_res += theta_hx * noise_image[ anchor - 28 ]\n",
    "        pred_res += theta_hh * (2 * image[ anchor - 28 ] - 1)\n",
    "\n",
    "    if anchor < 28 * 27:                                          # consider the bottom\n",
    "        noisy_res += theta_hx * noise_image[ anchor + 28 ]\n",
    "        pred_res += theta_hh * (2 * image[ anchor + 28 ] - 1)\n",
    "\n",
    "    return (pred_res, noisy_res)\n",
    "\n",
    "def generate_image(image, noise_image, theta):\n",
    "    image_length = len(image)\n",
    "    new_image = np.ones( image_length )\n",
    "    \n",
    "    for i in range(image_length):                                 # iterate whole image\n",
    "        prev, noise = pred_and_noisy(image, noise_image, i, theta)# take neighbor from image and noise_image\n",
    "        new_image[i] = np.exp(prev + noise) / (np.exp(prev + noise) + np.exp(-1.0 * prev + -1.0 * noise))\n",
    "        \n",
    "    return new_image\n",
    "\n",
    "def plot_img(denoised_img, normal_img, noise_img):\n",
    "    fig = plt.figure(figsize=(3,3))\n",
    "    \n",
    "    fig.add_subplot(1, 3, 1)                                      # plot normal\n",
    "    plt.imshow(normal_img.reshape((28,28)), cmap='gray')\n",
    "    fig.add_subplot(1, 3, 2)                                      # plot noise\n",
    "    plt.imshow(noise_img.reshape((28,28)), cmap='gray')\n",
    "    fig.add_subplot(1, 3, 3)                                      # plot reconstruction\n",
    "    plt.imshow(denoised_img.reshape((28,28)), cmap='gray')    \n",
    "    \n",
    "    plt.show()                                                    # show plots"
   ]
  },
  {
   "cell_type": "markdown",
   "metadata": {},
   "source": [
    "Prepare a figure showing the original image, the noisy image, and the reconstruction for\n",
    "\n",
    "your most accurate reconstruction\n",
    "\n",
    "your least accurate reconstruction"
   ]
  },
  {
   "cell_type": "code",
   "execution_count": 32,
   "metadata": {},
   "outputs": [
    {
     "name": "stdout",
     "output_type": "stream",
     "text": [
      "acc_sum: 0.9798852040816326, most accuracy: 0.9961734693877551, least accuracy: 0.9298469387755102\n"
     ]
    },
    {
     "data": {
      "image/png": "[encoded data removed]",
      "text/plain": [
       "<matplotlib.figure.Figure at 0x178a1d76438>"
      ]
     },
     "metadata": {},
     "output_type": "display_data"
    },
    {
     "data": {
      "image/png": "[encoded data removed]",
      "text/plain": [
       "<matplotlib.figure.Figure at 0x178a1cbe0b8>"
      ]
     },
     "metadata": {},
     "output_type": "display_data"
    },
    {
     "data": {
      "image/png": "[encoded data removed]",
      "text/plain": [
       "<matplotlib.figure.Figure at 0x178a1d76be0>"
      ]
     },
     "metadata": {},
     "output_type": "display_data"
    },
    {
     "data": {
      "image/png": "[encoded data removed]",
      "text/plain": [
       "<matplotlib.figure.Figure at 0x178a19e42e8>"
      ]
     },
     "metadata": {},
     "output_type": "display_data"
    },
    {
     "data": {
      "image/png": "[encoded data removed]",
      "text/plain": [
       "<matplotlib.figure.Figure at 0x178a1d550f0>"
      ]
     },
     "metadata": {},
     "output_type": "display_data"
    },
    {
     "data": {
      "image/png": "[encoded data removed]",
      "text/plain": [
       "<matplotlib.figure.Figure at 0x178a0ac60b8>"
      ]
     },
     "metadata": {},
     "output_type": "display_data"
    },
    {
     "data": {
      "image/png": "[encoded data removed]",
      "text/plain": [
       "<matplotlib.figure.Figure at 0x178a177fe80>"
      ]
     },
     "metadata": {},
     "output_type": "display_data"
    },
    {
     "data": {
      "image/png": "[encoded data removed]",
      "text/plain": [
       "<matplotlib.figure.Figure at 0x178a18f52e8>"
      ]
     },
     "metadata": {},
     "output_type": "display_data"
    },
    {
     "data": {
      "image/png": "[encoded data removed]",
      "text/plain": [
       "<matplotlib.figure.Figure at 0x178a17853c8>"
      ]
     },
     "metadata": {},
     "output_type": "display_data"
    },
    {
     "data": {
      "image/png": "[encoded data removed]",
      "text/plain": [
       "<matplotlib.figure.Figure at 0x178a1cf0518>"
      ]
     },
     "metadata": {},
     "output_type": "display_data"
    },
    {
     "data": {
      "image/png": "[encoded data removed]",
      "text/plain": [
       "<matplotlib.figure.Figure at 0x178a1d88b00>"
      ]
     },
     "metadata": {},
     "output_type": "display_data"
    },
    {
     "data": {
      "image/png": "[encoded data removed]",
      "text/plain": [
       "<matplotlib.figure.Figure at 0x178a10ed550>"
      ]
     },
     "metadata": {},
     "output_type": "display_data"
    }
   ],
   "source": [
    "most_acc, least_acc, acc_sum = -np.inf, np.inf, 0\n",
    "most_acc_img, least_acc_img = np.empty((num_pixel)), np.empty((num_pixel))\n",
    "most_acc_index, least_acc_index = 0, 0\n",
    "digit_list = np.array([None for _ in range(10)])\n",
    "\n",
    "theta_list = [-1, 0, 0.2, 1, 2]\n",
    "TP_rate, FP_rate = [], []\n",
    "\n",
    "for theta_index in range(len(theta_list)):\n",
    "    TP, FP, TN, FN = 0, 0, 0, 0                                     # true positive, false positive, true negative, false negative\n",
    "    for image_index in range(num_sample):               # run all images\n",
    "        \n",
    "        img = np.ones((num_pixel)) \n",
    "        \n",
    "        for _ in range(50):                                         # try 50 times\n",
    "            new_img = generate_image(img, noise_train_image[image_index], theta_list[theta_index])\n",
    "            img = new_img\n",
    "\n",
    "        new_img = np.where(img > 0.5, 1, -1)                    # compute the construction's accuracy\n",
    "        \n",
    "        for pixel_index in range(num_pixel):\n",
    "            if (new_img[pixel_index] == 1):\n",
    "                if (binary_train_image[image_index][pixel_index] == 1):\n",
    "                    TP += 1\n",
    "                else:\n",
    "                    FP += 1\n",
    "            else:\n",
    "                if (binary_train_image[image_index][pixel_index] == -1):\n",
    "                    TN += 1\n",
    "                else:\n",
    "                    FN += 1\n",
    "                \n",
    "        if (theta_list[theta_index] == 0.2):                        # when theta is 0.2, compute accuracy sum\n",
    "            acc = sum(binary_train_image[image_index] == new_img)   # compute accuracy\n",
    "            acc_sum += acc\n",
    "            \n",
    "            if (digit_list[train_laebl[image_index]] == None):        # find first digit figure\n",
    "                digit_list[train_laebl[image_index]] = (new_img, image_index)\n",
    "            \n",
    "            if (acc > most_acc):                                    # update the most accurate\n",
    "                most_acc = acc\n",
    "                most_acc_img = new_img\n",
    "                most_acc_index = image_index\n",
    "                \n",
    "            if (acc < least_acc):                                   # update the least accurate\n",
    "                least_acc = acc\n",
    "                least_acc_img = new_img\n",
    "                least_acc_index = image_index\n",
    "    \n",
    "    TP_rate.append(TP/(TP+FN))\n",
    "    FP_rate.append(FP/(FP+TN))\n",
    "    \n",
    "    if (theta_list[theta_index] == 0.2):                            # need only when theta = 0.2\n",
    "        acc_sum /= num_sample * num_pixel\n",
    "        print('acc_sum: {}, most accuracy: {}, least accuracy: {}'.format(acc_sum, most_acc / num_pixel, least_acc /num_pixel))\n",
    "        plot_img(most_acc_img, binary_train_image[most_acc_index], noise_train_image[most_acc_index])\n",
    "        plot_img(least_acc_img, binary_train_image[least_acc_index], noise_train_image[least_acc_index])\n",
    "\n",
    "for i in range(10):\n",
    "    denoise_img, img_index = digit_list[i]\n",
    "    plot_img(denoise_img, binary_train_image[img_index], noise_train_image[img_index] )"
   ]
  },
  {
   "cell_type": "markdown",
   "metadata": {},
   "source": [
    "Assume that theta_{ij} for the H_i, H_j terms takes a constant value c. We will investigate the effect of different values of c on the performance of the denoising algorithm. Think of your algorithm as a device that accepts an image, and for each pixel, predicts 1 or -1. You can evaluate this in the same way we evaluate a binary classifier, because you know the right value of each pixel. A receiver operating curve is a curve plotting the true positive rate against the false positive rate for a predictor, for different values of some useful parameter. We will use c as our parameter. To hand in: Using c=(-1, 0, 0.2, 1, 2) plot a receiver operating curve for your denoising algorithm."
   ]
  },
  {
   "cell_type": "code",
   "execution_count": 33,
   "metadata": {},
   "outputs": [
    {
     "name": "stdout",
     "output_type": "stream",
     "text": [
      "[0.653125, 0.0, 0.8920072115384615, 0.8780248397435897, 0.8944110576923077]\n",
      "[0.9268650608044902, 0.0, 0.007290692235734331, 0.00900958840037418, 0.009877806361085126]\n"
     ]
    },
    {
     "data": {
      "image/png": "[encoded data removed]",
      "text/plain": [
       "<matplotlib.figure.Figure at 0x178a17baa58>"
      ]
     },
     "metadata": {},
     "output_type": "display_data"
    }
   ],
   "source": [
    "print(TP_rate)\n",
    "print(FP_rate)\n",
    "\n",
    "plt.scatter(TP_rate, FP_rate)\n",
    "plt.show()"
   ]
  },
  {
   "cell_type": "code",
   "execution_count": null,
   "metadata": {
    "collapsed": true
   },
   "outputs": [],
   "source": []
  }
 ],
 "metadata": {
  "kernelspec": {
   "display_name": "Python 3",
   "language": "python",
   "name": "python3"
  },
  "language_info": {
   "codemirror_mode": {
    "name": "ipython",
    "version": 3
   },
   "file_extension": ".py",
   "mimetype": "text/x-python",
   "name": "python",
   "nbconvert_exporter": "python",
   "pygments_lexer": "ipython3",
   "version": "3.6.0"
  }
 },
 "nbformat": 4,
 "nbformat_minor": 2
}
